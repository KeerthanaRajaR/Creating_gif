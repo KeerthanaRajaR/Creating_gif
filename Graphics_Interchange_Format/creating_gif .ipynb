{
 "cells": [
  {
   "cell_type": "code",
   "execution_count": 3,
   "id": "65f13928-8da8-4612-83ac-a2d89fbf3471",
   "metadata": {},
   "outputs": [
    {
     "name": "stdout",
     "output_type": "stream",
     "text": [
      "Requirement already satisfied: moviepy in c:\\users\\keerthana r\\anaconda3\\lib\\site-packages (1.0.3)\n",
      "Requirement already satisfied: decorator<5.0,>=4.0.2 in c:\\users\\keerthana r\\anaconda3\\lib\\site-packages (from moviepy) (4.4.2)\n",
      "Requirement already satisfied: tqdm<5.0,>=4.11.2 in c:\\users\\keerthana r\\anaconda3\\lib\\site-packages (from moviepy) (4.65.0)\n",
      "Requirement already satisfied: requests<3.0,>=2.8.1 in c:\\users\\keerthana r\\anaconda3\\lib\\site-packages (from moviepy) (2.31.0)\n",
      "Requirement already satisfied: proglog<=1.0.0 in c:\\users\\keerthana r\\anaconda3\\lib\\site-packages (from moviepy) (0.1.10)\n",
      "Requirement already satisfied: numpy>=1.17.3 in c:\\users\\keerthana r\\anaconda3\\lib\\site-packages (from moviepy) (1.26.4)\n",
      "Requirement already satisfied: imageio<3.0,>=2.5 in c:\\users\\keerthana r\\anaconda3\\lib\\site-packages (from moviepy) (2.33.1)\n",
      "Requirement already satisfied: imageio-ffmpeg>=0.2.0 in c:\\users\\keerthana r\\anaconda3\\lib\\site-packages (from moviepy) (0.5.1)\n",
      "Requirement already satisfied: pillow>=8.3.2 in c:\\users\\keerthana r\\anaconda3\\lib\\site-packages (from imageio<3.0,>=2.5->moviepy) (10.2.0)\n",
      "Requirement already satisfied: setuptools in c:\\users\\keerthana r\\anaconda3\\lib\\site-packages (from imageio-ffmpeg>=0.2.0->moviepy) (68.2.2)\n",
      "Requirement already satisfied: charset-normalizer<4,>=2 in c:\\users\\keerthana r\\anaconda3\\lib\\site-packages (from requests<3.0,>=2.8.1->moviepy) (2.0.4)\n",
      "Requirement already satisfied: idna<4,>=2.5 in c:\\users\\keerthana r\\anaconda3\\lib\\site-packages (from requests<3.0,>=2.8.1->moviepy) (3.4)\n",
      "Requirement already satisfied: urllib3<3,>=1.21.1 in c:\\users\\keerthana r\\anaconda3\\lib\\site-packages (from requests<3.0,>=2.8.1->moviepy) (2.0.7)\n",
      "Requirement already satisfied: certifi>=2017.4.17 in c:\\users\\keerthana r\\anaconda3\\lib\\site-packages (from requests<3.0,>=2.8.1->moviepy) (2024.2.2)\n",
      "Requirement already satisfied: colorama in c:\\users\\keerthana r\\anaconda3\\lib\\site-packages (from tqdm<5.0,>=4.11.2->moviepy) (0.4.6)\n",
      "Note: you may need to restart the kernel to use updated packages.\n"
     ]
    }
   ],
   "source": [
    "pip install moviepy\n"
   ]
  },
  {
   "cell_type": "code",
   "execution_count": 15,
   "id": "8849a253-8891-48ac-af00-d6cf7fa47bc7",
   "metadata": {},
   "outputs": [
    {
     "name": "stdout",
     "output_type": "stream",
     "text": [
      "MoviePy - Building file output.gif with imageio.\n"
     ]
    },
    {
     "name": "stderr",
     "output_type": "stream",
     "text": [
      "                                                                                                                       \r"
     ]
    },
    {
     "name": "stdout",
     "output_type": "stream",
     "text": [
      "Gif saved as output.gif\n"
     ]
    }
   ],
   "source": [
    "import cv2\n",
    "import numpy as np\n",
    "import random\n",
    "from moviepy.editor import VideoFileClip\n",
    "\n",
    "# Video settings\n",
    "frame_width = 720  # Increased width to fit all characters\n",
    "frame_height = 360\n",
    "fps = 30\n",
    "num_frames_per_letter = 10\n",
    "total_letters = len(\"Hello Keerthana\")  # \"Hello Keerthana\" has 14 characters (including space)\n",
    "num_frames = total_letters * num_frames_per_letter  # Total frames for video\n",
    "\n",
    "# Text settings\n",
    "text_hello_x, text_hello_y = 100, 150  # Adjusted x to better fit the text\n",
    "text_keerthana_x, text_keerthana_y = 100, 250\n",
    "font = cv2.FONT_HERSHEY_SIMPLEX\n",
    "font_scale = 2\n",
    "thickness = 3\n",
    "\n",
    "# Helper functions\n",
    "def hsv_to_rgb(h, s, v):\n",
    "    # Convert HSV to BGR and ensure the values are integers\n",
    "    rgb_color = cv2.cvtColor(np.uint8([[[h, s, v]]]), cv2.COLOR_HSV2BGR)[0][0]\n",
    "    return tuple(int(c) for c in rgb_color)  # Ensure values are integer and in tuple form\n",
    "\n",
    "def random_hue():\n",
    "    return random.randint(0, 179), 200, 255\n",
    "\n",
    "# Video writer setup\n",
    "output_path = 'slower_blinking_letter_and_background.mp4'\n",
    "fourcc = cv2.VideoWriter_fourcc(*'mp4v')\n",
    "out = cv2.VideoWriter(output_path, fourcc, fps, (frame_width, frame_height))\n",
    "\n",
    "# Initialize colors for each letter\n",
    "letter_colors = [(255, 255, 255) for _ in range(total_letters)]\n",
    "\n",
    "# Generate frames\n",
    "for frame_idx in range(num_frames):\n",
    "    # Determine which letter should blink\n",
    "    letter_index = frame_idx // num_frames_per_letter\n",
    "\n",
    "    # Change background and letter colors every 10 frames\n",
    "    if frame_idx % num_frames_per_letter == 0:\n",
    "        background_color = hsv_to_rgb(*random_hue())\n",
    "        letter_colors = [(255, 255, 255) for _ in range(total_letters)]  # Reset all letters to white\n",
    "        letter_colors[letter_index] = hsv_to_rgb(*random_hue())  # Current letter blinks\n",
    "\n",
    "    # Create a new blank frame\n",
    "    frame = np.zeros((frame_height, frame_width, 3), dtype=np.uint8)\n",
    "    frame[:] = background_color  # Fill with background color\n",
    "\n",
    "    # Draw the word \"Hello\"\n",
    "    x = text_hello_x\n",
    "    for i, letter in enumerate(\"Hello\"):\n",
    "        cv2.putText(frame, letter, (x, text_hello_y), font, font_scale, letter_colors[i], thickness)\n",
    "        x += 50  # Reduced spacing to fit letters\n",
    "\n",
    "    # Draw the word \"Keerthana\"\n",
    "    x = text_keerthana_x\n",
    "    for i, letter in enumerate(\"Keerthana\", 6):  # Adjusting index to continue from \"Hello\"\n",
    "        cv2.putText(frame, letter, (x, text_keerthana_y), font, font_scale, letter_colors[i], thickness)\n",
    "        x += 50  # Reduced spacing to fit letters\n",
    "\n",
    "    # Write the frame to the video\n",
    "    out.write(frame)\n",
    "\n",
    "# Release the video writer\n",
    "out.release()\n",
    "\n",
    "# Convert the video to GIF\n",
    "def convert_to_gif(video_path, gif_path):\n",
    "    clip = VideoFileClip(video_path)\n",
    "    clip.write_gif(gif_path)\n",
    "\n",
    "# Convert video to GIF\n",
    "vedioclip = VideoFileClip(output_path)\n",
    "output_gif_path = \"output.gif\"\n",
    "vedioclip.write_gif(output_gif_path, fps=fps)\n",
    "\n",
    "print(f\"Gif saved as {output_gif_path}\")\n"
   ]
  },
  {
   "cell_type": "code",
   "execution_count": null,
   "id": "28d83e1e-a2f3-4f3d-a41f-0b6abd36ee39",
   "metadata": {},
   "outputs": [],
   "source": []
  }
 ],
 "metadata": {
  "kernelspec": {
   "display_name": "Python 3 (ipykernel)",
   "language": "python",
   "name": "python3"
  },
  "language_info": {
   "codemirror_mode": {
    "name": "ipython",
    "version": 3
   },
   "file_extension": ".py",
   "mimetype": "text/x-python",
   "name": "python",
   "nbconvert_exporter": "python",
   "pygments_lexer": "ipython3",
   "version": "3.11.7"
  }
 },
 "nbformat": 4,
 "nbformat_minor": 5
}
